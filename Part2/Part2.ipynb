{
 "cells": [
  {
   "cell_type": "code",
   "execution_count": null,
   "metadata": {},
   "outputs": [],
   "source": [
    "# Part 2\n",
    "\n",
    "import socket\n",
    "import csv\n",
    "import struct\n",
    "\n",
    "UDP_IP = \"192.168.42.168\" # replace with server IP\n",
    "UDP_IP2 = \"192.168.42.29\"\n",
    "UDP_PORT = 54321 # replace with port number\n",
    "UDP_PORT2 = 54322\n",
    "sock = socket.socket(socket.AF_INET, # Internet\n",
    "                     socket.SOCK_DGRAM) # UDP\n",
    "sock.bind((UDP_IP, UDP_PORT))\n",
    "\n",
    "sock2 = socket.socket(socket.AF_INET, # Internet\n",
    "                     socket.SOCK_DGRAM) # UDP\n",
    "# sock2.bind((UDP_IP, UDP_PORT2))\n",
    "\n",
    "\n",
    "# while True:\n",
    "#     data, addr = sock.recvfrom(1024) # buffer size is 1024 bytes\n",
    "#     print(\"Fuel 1: \", data.decode())\n",
    "\n",
    "\n",
    "while True:\n",
    "    # create a CSV file to store fuel data\n",
    "    with open('/home/sraq/Desktop/Exam/fuel.csv', 'a',newline='') as csvFile:\n",
    "            writer = csv.writer(csvFile)\n",
    "            #continuously read fuel 1 data from Arduino and write it to CSV file\n",
    "            try:\n",
    "                data, addr = sock.recvfrom(1024) # buffer size is 1024 bytes\n",
    "                received_value = data.decode()\n",
    "                \n",
    "                fuel_1, fuel_2 = received_value.split(',')  # values are separated by a comma\n",
    "                fuel_1 = float(fuel_1.strip())\n",
    "                fuel_2 = float(fuel_2.strip())\n",
    "\n",
    "                print(\"Fuel 1: {}, Fuel 2: {}\".format(fuel_1, fuel_2))\n",
    "\n",
    "                writer.writerow([fuel_1,fuel_2])\n",
    "\n",
    "                received_value = struct.pack('ff',fuel_1,fuel_2)\n",
    "                sock2.sendto(received_value, (UDP_IP2, UDP_PORT2))\n",
    "\n",
    "            except KeyboardInterrupt:\n",
    "                print(\"KeyboardInterrupt has been caught.\")"
   ]
  }
 ],
 "metadata": {
  "language_info": {
   "name": "python"
  },
  "orig_nbformat": 4
 },
 "nbformat": 4,
 "nbformat_minor": 2
}
