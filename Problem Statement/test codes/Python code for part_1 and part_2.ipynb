{
 "cells": [
  {
   "cell_type": "code",
   "execution_count": 1,
   "metadata": {},
   "outputs": [
    {
     "ename": "ModuleNotFoundError",
     "evalue": "No module named 'serial'",
     "output_type": "error",
     "traceback": [
      "\u001b[1;31m---------------------------------------------------------------------------\u001b[0m",
      "\u001b[1;31mModuleNotFoundError\u001b[0m                       Traceback (most recent call last)",
      "Cell \u001b[1;32mIn[1], line 3\u001b[0m\n\u001b[0;32m      1\u001b[0m \u001b[39m#part 1\u001b[39;00m\n\u001b[1;32m----> 3\u001b[0m \u001b[39mimport\u001b[39;00m \u001b[39mserial\u001b[39;00m\n\u001b[0;32m      4\u001b[0m \u001b[39mimport\u001b[39;00m \u001b[39mcsv\u001b[39;00m\n\u001b[0;32m      5\u001b[0m \u001b[39mimport\u001b[39;00m \u001b[39mtime\u001b[39;00m\n",
      "\u001b[1;31mModuleNotFoundError\u001b[0m: No module named 'serial'"
     ]
    }
   ],
   "source": [
    "#part 1\n",
    "\n",
    "import serial\n",
    "import csv\n",
    "import time\n",
    "\n",
    "# open the serial port for communication with Arduino\n",
    "with serial.Serial('/dev/ttyUSB0', 9600, timeout=1) as arduino1: #change the port name accordingly\n",
    "    time.sleep(0.1) #wait for serial to open\n",
    "    if arduino1.isOpen():\n",
    "         print(\"{} connected!\".format(arduino1.port))\n",
    "\n",
    "\n",
    "    with serial.Serial('/dev/ttyACM0',9600,timeout = 1) as arduino2: #change the port name accordingly\n",
    "            time.sleep(0.1)\n",
    "            if arduino2.isOpen():\n",
    "                print(\"{} connected!\".format(arduino2.port))\n",
    "\n",
    "\n",
    "                while True:\n",
    "                    # create a CSV file to store altitude data\n",
    "                    with open('/home/sraq/Desktop/Exam/alti1.csv', 'a',newline='') as csvFile: #give file location\n",
    "                            writer = csv.writer(csvFile)\n",
    "                            #continuously read altitude data from Arduino and write it to CSV file\n",
    "                            try:\n",
    "                                    if  arduino1.inWaiting()>0:\n",
    "                                            answer=arduino1.readline().decode('utf-8').strip()\n",
    "                                            print(answer)\n",
    "                                            writer.writerow([answer])\n",
    "                                            arduino2.write((str(answer)+\"\\n\").encode('utf-8'))\n",
    "                                            arduino1.flushInput() #remove data after reading\n",
    "                            except KeyboardInterrupt:\n",
    "                                            print(\"KeyboardInterrupt has been caught.\")"
   ]
  },
  {
   "cell_type": "code",
   "execution_count": 2,
   "metadata": {},
   "outputs": [
    {
     "ename": "OSError",
     "evalue": "[WinError 10049] The requested address is not valid in its context",
     "output_type": "error",
     "traceback": [
      "\u001b[1;31m---------------------------------------------------------------------------\u001b[0m",
      "\u001b[1;31mOSError\u001b[0m                                   Traceback (most recent call last)",
      "Cell \u001b[1;32mIn[2], line 13\u001b[0m\n\u001b[0;32m     10\u001b[0m UDP_PORT2 \u001b[39m=\u001b[39m \u001b[39m54322\u001b[39m\n\u001b[0;32m     11\u001b[0m sock \u001b[39m=\u001b[39m socket\u001b[39m.\u001b[39msocket(socket\u001b[39m.\u001b[39mAF_INET, \u001b[39m# Internet\u001b[39;00m\n\u001b[0;32m     12\u001b[0m                      socket\u001b[39m.\u001b[39mSOCK_DGRAM) \u001b[39m# UDP\u001b[39;00m\n\u001b[1;32m---> 13\u001b[0m sock\u001b[39m.\u001b[39;49mbind((UDP_IP, UDP_PORT))\n\u001b[0;32m     15\u001b[0m sock2 \u001b[39m=\u001b[39m socket\u001b[39m.\u001b[39msocket(socket\u001b[39m.\u001b[39mAF_INET, \u001b[39m# Internet\u001b[39;00m\n\u001b[0;32m     16\u001b[0m                      socket\u001b[39m.\u001b[39mSOCK_DGRAM) \u001b[39m# UDP\u001b[39;00m\n\u001b[0;32m     17\u001b[0m \u001b[39m# sock2.bind((UDP_IP, UDP_PORT2))\u001b[39;00m\n\u001b[0;32m     18\u001b[0m \n\u001b[0;32m     19\u001b[0m \n\u001b[0;32m     20\u001b[0m \u001b[39m# while True:\u001b[39;00m\n\u001b[0;32m     21\u001b[0m \u001b[39m#     data, addr = sock.recvfrom(1024) # buffer size is 1024 bytes\u001b[39;00m\n\u001b[0;32m     22\u001b[0m \u001b[39m#     print(\"Fuel 1: \", data.decode())\u001b[39;00m\n",
      "\u001b[1;31mOSError\u001b[0m: [WinError 10049] The requested address is not valid in its context"
     ]
    }
   ],
   "source": [
    "# Part 2\n",
    "\n",
    "import socket\n",
    "import csv\n",
    "import struct\n",
    "\n",
    "UDP_IP = \"192.168.42.168\" # replace with server IP\n",
    "UDP_IP2 = \"192.168.42.29\"\n",
    "UDP_PORT = 54321 # replace with port number\n",
    "UDP_PORT2 = 54322\n",
    "sock = socket.socket(socket.AF_INET, # Internet\n",
    "                     socket.SOCK_DGRAM) # UDP\n",
    "sock.bind((UDP_IP, UDP_PORT))\n",
    "\n",
    "sock2 = socket.socket(socket.AF_INET, # Internet\n",
    "                     socket.SOCK_DGRAM) # UDP\n",
    "# sock2.bind((UDP_IP, UDP_PORT2))\n",
    "\n",
    "\n",
    "# while True:\n",
    "#     data, addr = sock.recvfrom(1024) # buffer size is 1024 bytes\n",
    "#     print(\"Fuel 1: \", data.decode())\n",
    "\n",
    "\n",
    "while True:\n",
    "    # create a CSV file to store fuel data\n",
    "    with open('/home/sraq/Desktop/Exam/fuel.csv', 'a',newline='') as csvFile:\n",
    "            writer = csv.writer(csvFile)\n",
    "            #continuously read fuel 1 data from Arduino and write it to CSV file\n",
    "            try:\n",
    "                data, addr = sock.recvfrom(1024) # buffer size is 1024 bytes\n",
    "                received_value = data.decode()\n",
    "                \n",
    "                fuel_1, fuel_2 = received_value.split(',')  # values are separated by a comma\n",
    "                fuel_1 = float(fuel_1.strip())\n",
    "                fuel_2 = float(fuel_2.strip())\n",
    "\n",
    "                print(\"Fuel 1: {}, Fuel 2: {}\".format(fuel_1, fuel_2))\n",
    "\n",
    "                writer.writerow([fuel_1,fuel_2])\n",
    "\n",
    "                received_value = struct.pack('ff',fuel_1,fuel_2)\n",
    "                sock2.sendto(received_value, (UDP_IP2, UDP_PORT2))\n",
    "\n",
    "            except KeyboardInterrupt:\n",
    "                print(\"KeyboardInterrupt has been caught.\")"
   ]
  },
  {
   "cell_type": "code",
   "execution_count": null,
   "metadata": {},
   "outputs": [],
   "source": []
  }
 ],
 "metadata": {
  "kernelspec": {
   "display_name": "Python 3",
   "language": "python",
   "name": "python3"
  },
  "language_info": {
   "codemirror_mode": {
    "name": "ipython",
    "version": 3
   },
   "file_extension": ".py",
   "mimetype": "text/x-python",
   "name": "python",
   "nbconvert_exporter": "python",
   "pygments_lexer": "ipython3",
   "version": "3.10.8"
  },
  "orig_nbformat": 4
 },
 "nbformat": 4,
 "nbformat_minor": 2
}
