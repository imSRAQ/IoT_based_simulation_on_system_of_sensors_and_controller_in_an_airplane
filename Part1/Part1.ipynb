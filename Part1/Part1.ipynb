{
 "cells": [
  {
   "cell_type": "code",
   "execution_count": null,
   "metadata": {},
   "outputs": [],
   "source": [
    "#part 1\n",
    "\n",
    "import serial\n",
    "import csv\n",
    "import time\n",
    "\n",
    "# open the serial port for communication with Arduino\n",
    "with serial.Serial('/dev/ttyUSB0', 9600, timeout=1) as arduino1: #change the port name accordingly\n",
    "    time.sleep(0.1) #wait for serial to open\n",
    "    if arduino1.isOpen():\n",
    "         print(\"{} connected!\".format(arduino1.port))\n",
    "\n",
    "\n",
    "    with serial.Serial('/dev/ttyACM0',9600,timeout = 1) as arduino2: #change the port name accordingly\n",
    "            time.sleep(0.1)\n",
    "            if arduino2.isOpen():\n",
    "                print(\"{} connected!\".format(arduino2.port))\n",
    "\n",
    "\n",
    "                while True:\n",
    "                    # create a CSV file to store altitude data\n",
    "                    with open('/home/sraq/Desktop/Exam/alti1.csv', 'a',newline='') as csvFile: #give file location\n",
    "                            writer = csv.writer(csvFile)\n",
    "                            #continuously read altitude data from Arduino and write it to CSV file\n",
    "                            try:\n",
    "                                    if  arduino1.inWaiting()>0:\n",
    "                                            answer=arduino1.readline().decode('utf-8').strip()\n",
    "                                            print(answer)\n",
    "                                            writer.writerow([answer])\n",
    "                                            arduino2.write((str(answer)+\"\\n\").encode('utf-8'))\n",
    "                                            arduino1.flushInput() #remove data after reading\n",
    "                            except KeyboardInterrupt:\n",
    "                                            print(\"KeyboardInterrupt has been caught.\")"
   ]
  }
 ],
 "metadata": {
  "language_info": {
   "name": "python"
  },
  "orig_nbformat": 4
 },
 "nbformat": 4,
 "nbformat_minor": 2
}
